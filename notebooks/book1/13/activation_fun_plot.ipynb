{
 "cells": [
  {
   "cell_type": "markdown",
   "id": "abb7ccfa",
   "metadata": {},
   "source": [
    "Source of this notebook is here:  https://github.com/probml/pyprobml/tree/master/notebooks/book1/02/activation_fun_plot.ipynb"
   ]
  }
 ],
 "metadata": {},
 "nbformat": 4,
 "nbformat_minor": 5
}

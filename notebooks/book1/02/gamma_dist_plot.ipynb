{
 "cells": [
  {
   "cell_type": "markdown",
   "metadata": {
    "id": "7OGyhw9v31o1"
   },
   "source": [
    "# Gamma Distributions"
   ]
  },
  {
   "cell_type": "code",
   "execution_count": null,
   "metadata": {
    "id": "iPOUzf2j0lNB"
   },
   "outputs": [],
   "source": [
    "import jax\n",
    "import jax.numpy as jnp\n",
    "from jax.scipy.stats import gamma\n",
    "import matplotlib.pyplot as plt\n",
    "import seaborn as sns\n",
    "\n",
    "try:\n",
    "    from probml_utils import savefig, latexify\n",
    "except ModuleNotFoundError:\n",
    "    %pip install git+https://github.com/probml/probml-utils.git\n",
    "    from probml_utils import savefig, latexify"
   ]
  },
  {
   "cell_type": "code",
   "execution_count": null,
   "metadata": {
    "id": "58mmIS_10m1K"
   },
   "outputs": [],
   "source": [
    "latexify(width_scale_factor=2, fig_height=2)"
   ]
  },
  {
   "cell_type": "code",
   "execution_count": null,
   "metadata": {
    "id": "iH5XbYaWeW-7"
   },
   "outputs": [],
   "source": [
    "def make_graph(data):\n",
    "    x = data[\"x\"]\n",
    "    a_list = data[\"a_list\"]\n",
    "    b_list = data[\"b_list\"]\n",
    "    props = data[\"props\"]\n",
    "    fig_name = data[\"fig_name\"]\n",
    "\n",
    "    for a, b, prop in zip(a_list, b_list, props):\n",
    "        y = gamma.pdf(x, a, scale=1 / b, loc=0)\n",
    "        plt.plot(x, y, prop, label=\"a=%.1f,  b=%.1f\" % (a, b))\n",
    "\n",
    "        plt.xlabel(\"$x$\")\n",
    "        plt.ylabel(\"$p(x)$\")\n",
    "        plt.legend(loc=\"upper right\")\n",
    "        plt.title(fig_name)\n",
    "        sns.despine()"
   ]
  },
  {
   "cell_type": "code",
   "execution_count": null,
   "metadata": {
    "id": "kk0h8yftdDcp"
   },
   "outputs": [],
   "source": [
    "x = jnp.linspace(0, 7, 100)\n",
    "a_list = [1.0, 1.5, 2.0, 1.0, 1.5, 2.0]\n",
    "b_list = [1.0, 1.0, 1.0, 2.0, 2.0, 2.0]\n",
    "props = [\"b-\", \"r-\", \"k-\", \"b:\", \"r:\", \"k:\"]\n",
    "data = {\"x\": x, \"a_list\": a_list, \"b_list\": b_list, \"props\": props, \"fig_name\": \"Gamma distributions\"}\n",
    "make_graph(data)\n",
    "savefig(\"gammadist_latexified\")"
   ]
  },
  {
   "cell_type": "code",
   "execution_count": null,
   "metadata": {
    "id": "3d6PKkO8g9Fj"
   },
   "outputs": [],
   "source": [
    "x = jnp.linspace(0, 7, 100)\n",
    "a_list = [1, 1.5, 2]\n",
    "b_list = [1, 1, 1]\n",
    "props = [\"b-\", \"r-\", \"g-\"]\n",
    "data = {\"x\": x, \"a_list\": a_list, \"b_list\": b_list, \"props\": props, \"fig_name\": \"Gamma(a,b) distributions\"}\n",
    "make_graph(data)"
   ]
  },
  {
   "cell_type": "code",
   "execution_count": null,
   "metadata": {
    "id": "PG7W-4PAhPae"
   },
   "outputs": [],
   "source": [
    "x = jnp.linspace(0, 7, 100)\n",
    "a_list = [1]\n",
    "b_list = [1]\n",
    "props = [\"b-\"]\n",
    "data = {\"x\": x, \"a_list\": a_list, \"b_list\": b_list, \"props\": props, \"fig_name\": \"Gamma(1,1) distribution\"}\n",
    "make_graph(data)\n",
    "plt.axvline(1, color=\"r\")\n",
    "plt.show()"
   ]
  },
  {
   "cell_type": "code",
   "execution_count": null,
   "metadata": {
    "id": "XUpV9fGMfU7c"
   },
   "outputs": [],
   "source": [
    "from ipywidgets import interact\n",
    "\n",
    "\n",
    "@interact(a=(0.1, 5), b=(0.1, 5))\n",
    "def generate_random(a, b):\n",
    "    data = {\n",
    "        \"x\": jnp.linspace(0, 7, 100),\n",
    "        \"a_list\": [a],\n",
    "        \"b_list\": [b],\n",
    "        \"props\": [\"b\"],\n",
    "        \"fig_name\": \"Gamma distributions\",\n",
    "    }\n",
    "    make_graph(data)\n",
    "    plt.yticks(jnp.arange(0, 6, step=1))"
   ]
  },
  {
   "cell_type": "code",
   "execution_count": null,
   "metadata": {
    "id": "TkppVzlWn990"
   },
   "outputs": [],
   "source": []
  }
 ],
 "metadata": {
  "colab": {
   "collapsed_sections": [],
   "name": "gamma_dist_plot.ipynb",
   "provenance": []
  },
  "kernelspec": {
   "display_name": "Python 3",
   "name": "python3"
  },
  "language_info": {
   "name": "python"
  }
 },
 "nbformat": 4,
 "nbformat_minor": 0
}

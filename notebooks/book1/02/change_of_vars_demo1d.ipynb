{
 "cells": [
  {
   "cell_type": "code",
   "execution_count": null,
   "id": "f65c6956",
   "metadata": {},
   "outputs": [],
   "source": [
    "import numpy as np\n",
    "import matplotlib.pyplot as plt\n",
    "import seaborn as sns\n",
    "\n",
    "\n",
    "xs = np.linspace(-1, 1, 21)\n",
    "a = -1\n",
    "b = 1\n",
    "px = 1 / (b - a) * np.ones(len(xs))\n",
    "\n",
    "fn = lambda x: x**2\n",
    "ys = fn(xs)\n",
    "\n",
    "# analytic\n",
    "ppy = 1 / (2 * np.sqrt(ys))\n",
    "\n",
    "# monte carlo\n",
    "n = 1000\n",
    "np.random.seed(42)\n",
    "samples = np.random.uniform(a, b, size=n)\n",
    "samples2 = fn(samples)\n",
    "\n",
    "print(np.mean(samples2))\n",
    "\n",
    "fig, ax = plt.subplots(nrows=1, ncols=3)\n",
    "ax[0].plot(xs, px, \"-\")\n",
    "ax[1].plot(ys, ppy, \"-\")\n",
    "sns.distplot(samples2, kde=False, ax=ax[2], bins=20, norm_hist=True, hist_kws=dict(edgecolor=\"k\", linewidth=0.5))\n",
    "plt.savefig(\"figures/changeOfVars.pdf\")\n",
    "plt.show()"
   ]
  }
 ],
 "metadata": {},
 "nbformat": 4,
 "nbformat_minor": 5
}

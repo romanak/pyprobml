{
 "cells": [
  {
   "cell_type": "markdown",
   "id": "77200122",
   "metadata": {},
   "source": [
    "Source of this notebook is here:  https://github.com/probml/pyprobml/tree/master/notebooks/book1/01/linreg_poly_vs_degree.ipynb"
   ]
  }
 ],
 "metadata": {},
 "nbformat": 4,
 "nbformat_minor": 5
}

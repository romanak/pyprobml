{
 "cells": [
  {
   "cell_type": "markdown",
   "id": "9eeedfa3",
   "metadata": {},
   "source": [
    "Source of this notebook is here:  https://github.com/probml/pyprobml/tree/master/notebooks/book1/05/huberLossPlot.ipynb"
   ]
  }
 ],
 "metadata": {},
 "nbformat": 4,
 "nbformat_minor": 5
}

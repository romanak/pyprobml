{
 "cells": [
  {
   "cell_type": "markdown",
   "id": "e49e85ba",
   "metadata": {},
   "source": [
    "Source of this notebook is here:  https://github.com/probml/pyprobml/tree/master/notebooks/book1/03/gmm_2d.ipynb"
   ]
  }
 ],
 "metadata": {},
 "nbformat": 4,
 "nbformat_minor": 5
}

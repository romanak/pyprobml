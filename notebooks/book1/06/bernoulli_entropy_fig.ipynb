{
 "cells": [
  {
   "cell_type": "code",
   "execution_count": null,
   "id": "33ce42ac",
   "metadata": {},
   "outputs": [],
   "source": [
    "import numpy as np\n",
    "import matplotlib.pyplot as plt\n",
    "\n",
    "try:\n",
    "    import probml_utils as pml\n",
    "except ModuleNotFoundError:\n",
    "    %pip install git+https://github.com/probml/probml-utils.git\n",
    "    import probml_utils as pml\n",
    "\n",
    "\n",
    "x = np.linspace(0, 1, 10000)\n",
    "\n",
    "H = lambda x: -(x * np.log2(x) + (1 - x) * np.log2(1 - x))\n",
    "\n",
    "plt.plot(x, H(x), \"-b\", lw=3)\n",
    "plt.xlim((-0.01, 1.01))\n",
    "plt.ylim((0, 1.01))\n",
    "\n",
    "plt.xlabel(\"p(X = 1)\")\n",
    "plt.ylabel(\"H(X)\")\n",
    "\n",
    "ticks = [0, 0.5, 1]\n",
    "plt.xticks(ticks)\n",
    "plt.yticks(ticks)\n",
    "\n",
    "pml.savefig(\"bernoulliEntropy.pdf\")\n",
    "plt.show()"
   ]
  }
 ],
 "metadata": {},
 "nbformat": 4,
 "nbformat_minor": 5
}

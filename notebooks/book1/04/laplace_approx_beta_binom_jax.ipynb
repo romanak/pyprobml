{
 "cells": [
  {
   "cell_type": "markdown",
   "id": "b6cf23e8",
   "metadata": {},
   "source": [
    "# Laplace approximation ( Quadratic approximation) \n",
    "\n",
    "In this notebook we will approximate posterior of beta-bernouli model for coin toss problem using laplace approximation method"
   ]
  },
  {
   "cell_type": "code",
   "execution_count": 11,
   "id": "f9c1338c",
   "metadata": {},
   "outputs": [],
   "source": [
    "try:\n",
    "    from probml_utils import latexify, savefig\n",
    "except:\n",
    "    %pip install git+https://github.com/probml/probml-utils.git\n",
    "    from probml_utils import latexify, savefig\n",
    "\n",
    "import jax\n",
    "import jax.numpy as jnp\n",
    "from jax import lax\n",
    "\n",
    "try:\n",
    "    from tensorflow_probability.substrates import jax as tfp\n",
    "except ModuleNotFoundError:\n",
    "    %pip install -qqq tensorflow_probability\n",
    "    from tensorflow_probability.substrates import jax as tfp\n",
    "\n",
    "try:\n",
    "    import optax\n",
    "except ModuleNotFoundError:\n",
    "    %pip install -qqq optax\n",
    "    import optax\n",
    "\n",
    "try:\n",
    "    from rich import print\n",
    "except ModuleNotFoundError:\n",
    "    %pip install -qqq rich\n",
    "    from rich import print\n",
    "\n",
    "try:\n",
    "    from tqdm import trange\n",
    "except:\n",
    "    %pip install -qqq tqdm\n",
    "    from tqdm import trange\n",
    "\n",
    "\n",
    "import seaborn as sns\n",
    "import numpy as np\n",
    "import matplotlib.pyplot as plt\n",
    "import warnings\n",
    "\n",
    "warnings.filterwarnings(\"ignore\")\n",
    "dist = tfp.distributions"
   ]
  },
  {
   "cell_type": "code",
   "execution_count": 2,
   "id": "76d8b346",
   "metadata": {},
   "outputs": [],
   "source": [
    "latexify(width_scale_factor=2, fig_height=2)  # to apply latexify, set LATEXIFY=1 in environment variable"
   ]
  },
  {
   "cell_type": "code",
   "execution_count": 3,
   "id": "7b6487c1",
   "metadata": {},
   "outputs": [
    {
     "name": "stderr",
     "output_type": "stream",
     "text": [
      "WARNING:absl:No GPU/TPU found, falling back to CPU. (Set TF_CPP_MIN_LOG_LEVEL=0 and rerun for more info.)\n"
     ]
    },
    {
     "data": {
      "text/html": [
       "<pre style=\"white-space:pre;overflow-x:auto;line-height:normal;font-family:Menlo,'DejaVu Sans Mono',consolas,'Courier New',monospace\">Dataset: <span style=\"font-weight: bold\">[</span><span style=\"color: #008080; text-decoration-color: #008080; font-weight: bold\">0</span> <span style=\"color: #008080; text-decoration-color: #008080; font-weight: bold\">0</span> <span style=\"color: #008080; text-decoration-color: #008080; font-weight: bold\">0</span> <span style=\"color: #008080; text-decoration-color: #008080; font-weight: bold\">0</span> <span style=\"color: #008080; text-decoration-color: #008080; font-weight: bold\">0</span> <span style=\"color: #008080; text-decoration-color: #008080; font-weight: bold\">0</span> <span style=\"color: #008080; text-decoration-color: #008080; font-weight: bold\">0</span> <span style=\"color: #008080; text-decoration-color: #008080; font-weight: bold\">0</span> <span style=\"color: #008080; text-decoration-color: #008080; font-weight: bold\">0</span> <span style=\"color: #008080; text-decoration-color: #008080; font-weight: bold\">0</span> <span style=\"color: #008080; text-decoration-color: #008080; font-weight: bold\">1</span><span style=\"font-weight: bold\">]</span>\n",
       "</pre>\n"
      ],
      "text/plain": [
       "Dataset: \u001b[1m[\u001b[0m\u001b[1;36m0\u001b[0m \u001b[1;36m0\u001b[0m \u001b[1;36m0\u001b[0m \u001b[1;36m0\u001b[0m \u001b[1;36m0\u001b[0m \u001b[1;36m0\u001b[0m \u001b[1;36m0\u001b[0m \u001b[1;36m0\u001b[0m \u001b[1;36m0\u001b[0m \u001b[1;36m0\u001b[0m \u001b[1;36m1\u001b[0m\u001b[1m]\u001b[0m\n"
      ]
     },
     "metadata": {},
     "output_type": "display_data"
    }
   ],
   "source": [
    "# Use same data as https://github.com/probml/probml-notebooks/blob/main/notebooks/beta_binom_approx_post_pymc.ipynb\n",
    "key = jax.random.PRNGKey(128)\n",
    "dataset = np.repeat([0, 1], (10, 1))\n",
    "n_samples = len(dataset)\n",
    "print(f\"Dataset: {dataset}\")\n",
    "n_heads = dataset.sum()\n",
    "n_tails = n_samples - n_heads"
   ]
  },
  {
   "cell_type": "code",
   "execution_count": 4,
   "id": "c04b4e84",
   "metadata": {},
   "outputs": [],
   "source": [
    "# prior distribution ~ Beta\n",
    "def prior_dist():\n",
    "    return dist.Beta(concentration1=1.0, concentration0=1.0)\n",
    "\n",
    "\n",
    "# likelihood distribution ~ Bernoulli\n",
    "def likelihood_dist(theta):\n",
    "    return dist.Bernoulli(probs=theta)"
   ]
  },
  {
   "cell_type": "code",
   "execution_count": 5,
   "id": "6d16a8df",
   "metadata": {},
   "outputs": [
    {
     "data": {
      "image/png": "[encoded data removed]",
      "text/plain": [
       "<Figure size 432x288 with 2 Axes>"
      ]
     },
     "metadata": {
      "needs_background": "light"
     },
     "output_type": "display_data"
    }
   ],
   "source": [
    "# closed form of beta posterior\n",
    "a = prior_dist().concentration1\n",
    "b = prior_dist().concentration0\n",
    "\n",
    "exact_posterior = dist.Beta(concentration1=a + n_heads, concentration0=b + n_tails)\n",
    "\n",
    "theta_range = jnp.linspace(0.01, 0.99, 100)\n",
    "\n",
    "ax = plt.gca()\n",
    "ax2 = ax.twinx()\n",
    "(plt2,) = ax2.plot(theta_range, exact_posterior.prob(theta_range), \"g--\", label=\"True Posterior\")\n",
    "(plt3,) = ax2.plot(theta_range, prior_dist().prob(theta_range), label=\"Prior\")\n",
    "\n",
    "likelihood = jax.vmap(lambda x: jnp.prod(likelihood_dist(x).prob(dataset)))(theta_range)\n",
    "(plt1,) = ax.plot(theta_range, likelihood, \"r-.\", label=\"Likelihood\")\n",
    "\n",
    "ax.set_xlabel(\"theta\")\n",
    "ax.set_ylabel(\"Likelihood\")\n",
    "ax2.set_ylabel(\"Prior & Posterior\")\n",
    "ax2.legend(handles=[plt1, plt2, plt3], bbox_to_anchor=(1.6, 1));"
   ]
  },
  {
   "cell_type": "markdown",
   "id": "3628587e",
   "metadata": {},
   "source": [
    "## Laplace approximation from scratch in JAX\n",
    "\n",
    "As mentioned in book2 section 7.4.3, Using laplace approximation, any distribution can be approximated as normal distribution having mean $\\hat{\\theta}$ and standard deviation as $H^{-1}$\n",
    "\\begin{align}\n",
    "  H = \\triangledown ^2_{\\theta = \\hat{\\theta}} \\log p(\\theta|\\mathcal{D}) \\\\\n",
    "  p(\\theta|\\mathcal{D}) = \\frac{1}{Z}p(\\theta|\\mathcal{D}) = \\mathcal{N}(\\theta |\\hat{\\theta}, H^{-1})\n",
    "\\end{align}\n",
    "Where H is Hessian and $\\hat{\\theta}$ is the mode"
   ]
  },
  {
   "cell_type": "markdown",
   "id": "9f798553",
   "metadata": {},
   "source": [
    "### Find $\\hat{\\theta}$"
   ]
  },
  {
   "cell_type": "markdown",
   "id": "8d9e87f0",
   "metadata": {},
   "source": [
    "No we find $\\hat{\\theta}$ ($\\theta$_map) by minimizing negative log prior-likelhihood. "
   ]
  },
  {
   "cell_type": "code",
   "execution_count": 6,
   "id": "6d745e95",
   "metadata": {},
   "outputs": [],
   "source": [
    "def neg_log_prior_likelihood_fn(params, dataset):\n",
    "    theta = params[\"theta\"]\n",
    "    likelihood_log_prob = likelihood_dist(theta).log_prob(dataset).sum()  # log probability of likelihood\n",
    "    prior_log_prob = prior_dist().log_prob(theta)  # log probability of prior\n",
    "    return -(likelihood_log_prob + prior_log_prob)  # negative log_prior_liklihood"
   ]
  },
  {
   "cell_type": "code",
   "execution_count": 7,
   "id": "c87bcaf6",
   "metadata": {},
   "outputs": [],
   "source": [
    "loss_and_grad_fn = jax.value_and_grad(neg_log_prior_likelihood_fn)\n",
    "params = {\"theta\": 0.5}\n",
    "neg_joint_log_prob, grads = loss_and_grad_fn(params, dataset)\n",
    "\n",
    "optimizer = optax.adam(0.01)\n",
    "opt_state = optimizer.init(params)"
   ]
  },
  {
   "cell_type": "code",
   "execution_count": 12,
   "id": "9749aaa5",
   "metadata": {},
   "outputs": [],
   "source": [
    "@jax.jit\n",
    "def train_step(carry, data_output):\n",
    "\n",
    "    params = carry[\"params\"]\n",
    "    neg_joint_log_prob, grads = loss_and_grad_fn(params, dataset)\n",
    "\n",
    "    opt_state = carry[\"opt_state\"]\n",
    "    updates, opt_state = optimizer.update(grads, opt_state)\n",
    "    params = optax.apply_updates(params, updates)\n",
    "\n",
    "    carry = {\"params\": params, \"opt_state\": opt_state}\n",
    "    data_output = {\"params\": params, \"loss\": neg_joint_log_prob}\n",
    "\n",
    "    return carry, data_output"
   ]
  },
  {
   "cell_type": "code",
   "execution_count": 13,
   "id": "36236690",
   "metadata": {},
   "outputs": [],
   "source": [
    "carry = {\"params\": params, \"opt_state\": opt_state}\n",
    "data_output = {\"params\": params, \"loss\": neg_joint_log_prob}\n",
    "\n",
    "n = 100\n",
    "iterator = jnp.ones(n)\n",
    "last_carry, output = jax.lax.scan(train_step, carry, iterator)"
   ]
  },
  {
   "cell_type": "code",
   "execution_count": 14,
   "id": "d94f5415",
   "metadata": {},
   "outputs": [
    {
     "data": {
      "image/png": "[encoded data removed]",
      "text/plain": [
       "<Figure size 432x288 with 1 Axes>"
      ]
     },
     "metadata": {
      "needs_background": "light"
     },
     "output_type": "display_data"
    }
   ],
   "source": [
    "loss = output[\"loss\"]\n",
    "plt.plot(loss, label=\"loss\")\n",
    "plt.legend();"
   ]
  },
  {
   "cell_type": "code",
   "execution_count": 15,
   "id": "67f02005",
   "metadata": {},
   "outputs": [
    {
     "data": {
      "text/html": [
       "<pre style=\"white-space:pre;overflow-x:auto;line-height:normal;font-family:Menlo,'DejaVu Sans Mono',consolas,'Courier New',monospace\">theta_map = <span style=\"color: #008080; text-decoration-color: #008080; font-weight: bold\">0.09168018400669098</span>\n",
       "</pre>\n"
      ],
      "text/plain": [
       "theta_map = \u001b[1;36m0.09168018400669098\u001b[0m\n"
      ]
     },
     "metadata": {},
     "output_type": "display_data"
    }
   ],
   "source": [
    "optimized_params = last_carry[\"params\"]\n",
    "theta_map = optimized_params[\"theta\"]\n",
    "print(f\"theta_map = {theta_map}\")"
   ]
  },
  {
   "cell_type": "markdown",
   "id": "06d96559",
   "metadata": {},
   "source": [
    "### loc and scale of approximated normal posterior"
   ]
  },
  {
   "cell_type": "code",
   "execution_count": 16,
   "id": "15b14b76",
   "metadata": {},
   "outputs": [
    {
     "data": {
      "text/html": [
       "<pre style=\"white-space:pre;overflow-x:auto;line-height:normal;font-family:Menlo,'DejaVu Sans Mono',consolas,'Courier New',monospace\">loc = <span style=\"color: #008080; text-decoration-color: #008080; font-weight: bold\">0.09168018400669098</span>\n",
       "</pre>\n"
      ],
      "text/plain": [
       "loc = \u001b[1;36m0.09168018400669098\u001b[0m\n"
      ]
     },
     "metadata": {},
     "output_type": "display_data"
    }
   ],
   "source": [
    "loc = theta_map  # loc of approximate posterior\n",
    "print(f\"loc = {loc}\")"
   ]
  },
  {
   "cell_type": "code",
   "execution_count": 17,
   "id": "35d513a0",
   "metadata": {},
   "outputs": [
    {
     "data": {
      "text/html": [
       "<pre style=\"white-space:pre;overflow-x:auto;line-height:normal;font-family:Menlo,'DejaVu Sans Mono',consolas,'Courier New',monospace\">scale = <span style=\"color: #008080; text-decoration-color: #008080; font-weight: bold\">0.08733917027711868</span>\n",
       "</pre>\n"
      ],
      "text/plain": [
       "scale = \u001b[1;36m0.08733917027711868\u001b[0m\n"
      ]
     },
     "metadata": {},
     "output_type": "display_data"
    }
   ],
   "source": [
    "# scale of approximate posterior\n",
    "scale = 1 / jnp.sqrt(jax.hessian(neg_log_prior_likelihood_fn)(optimized_params, dataset)[\"theta\"][\"theta\"])\n",
    "print(f\"scale = {scale}\")"
   ]
  },
  {
   "cell_type": "markdown",
   "id": "15d77604",
   "metadata": {},
   "source": [
    "### True posterior and laplace approximated posterior"
   ]
  },
  {
   "cell_type": "code",
   "execution_count": 18,
   "id": "291fb43e",
   "metadata": {},
   "outputs": [
    {
     "data": {
      "image/png": "[encoded data removed]",
      "text/plain": [
       "<Figure size 432x288 with 1 Axes>"
      ]
     },
     "metadata": {
      "needs_background": "light"
     },
     "output_type": "display_data"
    }
   ],
   "source": [
    "plt.figure()\n",
    "y = jnp.exp(dist.Normal(loc, scale).log_prob(theta_range))\n",
    "plt.title(\"Quadratic approximation\")\n",
    "plt.plot(theta_range, y, label=\"laplace approximation\", color=\"tab:red\")\n",
    "plt.plot(theta_range, exact_posterior.prob(theta_range), label=\"true posterior\", color=\"tab:green\", linestyle=\"--\")\n",
    "plt.xlabel(\"$\\\\theta$\")\n",
    "plt.ylabel(\"$p(\\\\theta)$\")\n",
    "sns.despine()\n",
    "plt.legend()\n",
    "savefig(\"bb_laplace\")  # set FIG_DIR =  \"path/to/figure\" enviornment variable to save figure"
   ]
  },
  {
   "cell_type": "markdown",
   "id": "29bf9a93",
   "metadata": {},
   "source": [
    "## Pymc"
   ]
  },
  {
   "cell_type": "code",
   "execution_count": 19,
   "id": "cbadfd36",
   "metadata": {},
   "outputs": [
    {
     "name": "stderr",
     "output_type": "stream",
     "text": [
      "WARNING:theano.link.c.cmodule:install mkl with `conda install mkl-service`: No module named 'mkl'\n",
      "WARNING:theano.tensor.blas:Using NumPy C-API based implementation for BLAS functions.\n"
     ]
    }
   ],
   "source": [
    "try:\n",
    "    import pymc3 as pm\n",
    "except ModuleNotFoundError:\n",
    "    %pip install pymc3\n",
    "    import pymc3 as pm\n",
    "try:\n",
    "    import scipy.stats as stats\n",
    "except ModuleNotFoundError:\n",
    "    %pip install scipy\n",
    "    import scipy.stats as stats\n",
    "\n",
    "import scipy.special as sp\n",
    "\n",
    "try:\n",
    "    import arviz as az\n",
    "except ModuleNotFoundError:\n",
    "    %pip install arviz\n",
    "    import arviz as az\n",
    "\n",
    "import math"
   ]
  },
  {
   "cell_type": "code",
   "execution_count": 20,
   "id": "0022fcbc",
   "metadata": {},
   "outputs": [
    {
     "data": {
      "text/html": [
       "\n",
       "<style>\n",
       "    /* Turns off some styling */\n",
       "    progress {\n",
       "        /* gets rid of default border in Firefox and Opera. */\n",
       "        border: none;\n",
       "        /* Needs to be in here for Safari polyfill so background images work as expected. */\n",
       "        background-size: auto;\n",
       "    }\n",
       "    .progress-bar-interrupted, .progress-bar-interrupted::-webkit-progress-bar {\n",
       "        background: #F44336;\n",
       "    }\n",
       "</style>\n"
      ],
      "text/plain": [
       "<IPython.core.display.HTML object>"
      ]
     },
     "metadata": {},
     "output_type": "display_data"
    },
    {
     "data": {
      "text/html": [
       "\n",
       "    <div>\n",
       "      <progress value='8' class='' max='8' style='width:300px; height:20px; vertical-align: middle;'></progress>\n",
       "      100.00% [8/8 00:00<00:00 logp = -7.6246, ||grad|| = 4.5]\n",
       "    </div>\n",
       "    "
      ],
      "text/plain": [
       "<IPython.core.display.HTML object>"
      ]
     },
     "metadata": {},
     "output_type": "display_data"
    },
    {
     "name": "stdout",
     "output_type": "stream",
     "text": [
      "\n"
     ]
    }
   ],
   "source": [
    "# Laplace\n",
    "with pm.Model() as normal_aproximation:\n",
    "    theta = pm.Beta(\"theta\", 1.0, 1.0)\n",
    "    y = pm.Binomial(\"y\", n=1, p=theta, observed=dataset)  # Bernoulli\n",
    "    mean_q = pm.find_MAP()\n",
    "    std_q = ((1 / pm.find_hessian(mean_q, vars=[theta])) ** 0.5)[0]\n",
    "    loc = mean_q[\"theta\"]\n",
    "\n",
    "# plt.savefig('bb_laplace.pdf');"
   ]
  },
  {
   "cell_type": "code",
   "execution_count": 21,
   "id": "73a0b4f8",
   "metadata": {},
   "outputs": [
    {
     "data": {
      "text/plain": [
       "<matplotlib.legend.Legend at 0x7fe99724c130>"
      ]
     },
     "execution_count": 21,
     "metadata": {},
     "output_type": "execute_result"
    },
    {
     "data": {
      "image/png": "[encoded data removed]",
      "text/plain": [
       "<Figure size 432x288 with 1 Axes>"
      ]
     },
     "metadata": {
      "needs_background": "light"
     },
     "output_type": "display_data"
    }
   ],
   "source": [
    "x = theta_range\n",
    "\n",
    "plt.figure()\n",
    "plt.plot(x, stats.norm.pdf(x, loc, std_q), \"--\", label=\"Laplace\")\n",
    "post_exact = stats.beta.pdf(x, n_heads + 1, n_tails + 1)\n",
    "plt.plot(x, post_exact, label=\"exact\")\n",
    "plt.title(\"Quadratic approximation\")\n",
    "plt.xlabel(\"θ\", fontsize=14)\n",
    "plt.yticks([])\n",
    "plt.legend()"
   ]
  }
 ],
 "metadata": {
  "kernelspec": {
   "display_name": "Python [conda env:pymc_exp]",
   "language": "python",
   "name": "conda-env-pymc_exp-py"
  },
  "language_info": {
   "codemirror_mode": {
    "name": "ipython",
    "version": 3
   },
   "file_extension": ".py",
   "mimetype": "text/x-python",
   "name": "python",
   "nbconvert_exporter": "python",
   "pygments_lexer": "ipython3",
   "version": "3.8.0"
  }
 },
 "nbformat": 4,
 "nbformat_minor": 5
}

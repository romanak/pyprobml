{
 "cells": [
  {
   "cell_type": "markdown",
   "id": "2b2b0acc",
   "metadata": {},
   "source": [
    "Source of this notebook is here:  https://github.com/probml/pyprobml/tree/master/notebooks/book1/03/gauss_infer_2d.ipynb"
   ]
  }
 ],
 "metadata": {},
 "nbformat": 4,
 "nbformat_minor": 5
}

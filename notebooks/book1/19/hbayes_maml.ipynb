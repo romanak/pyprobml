{
 "nbformat": 4,
 "nbformat_minor": 0,
 "metadata": {
  "colab": {
   "name": "hbayes-maml.ipynb",
   "provenance": [],
   "collapsed_sections": [],
   "include_colab_link": true
  },
  "kernelspec": {
   "name": "python3",
   "display_name": "Python 3"
  },
  "language_info": {
   "name": "python"
  }
 },
 "cells": [
  {
   "cell_type": "markdown",
   "metadata": {
    "id": "view-in-github",
    "colab_type": "text"
   },
   "source": [
    "<a href=\"https://colab.research.google.com/github/probml/probml-notebooks/blob/main/hbayes_maml.ipynb\" target=\"_parent\"><img src=\"https://colab.research.google.com/assets/colab-badge.svg\" alt=\"Open In Colab\"/></a>"
   ]
  },
  {
   "cell_type": "markdown",
   "metadata": {
    "id": "Ir6TlsCCJ6U1"
   },
   "source": [
    "# Make figures for hierarchical Bayesian regression models\n"
   ]
  },
  {
   "cell_type": "code",
   "metadata": {
    "id": "ozuevi3Sbq6M"
   },
   "source": [
    "import graphviz"
   ],
   "execution_count": 1,
   "outputs": []
  },
  {
   "cell_type": "code",
   "metadata": {
    "id": "4x-YzxQObuFy"
   },
   "source": [
    "def create_node(\n",
    "    dot,\n",
    "    character,\n",
    "    subscript=\"\",\n",
    "    superscript=\"\",\n",
    "    color=\"white\",\n",
    "    fill_color=\"white\",\n",
    "    fontcolor=\"black\",\n",
    "    is_greek_letter=False,\n",
    "):\n",
    "    label, index = \"\", \"\"\n",
    "    if subscript != \"\" and superscript != \"\":\n",
    "        label = f\"<SUB>{subscript}</SUB><SUP>{superscript}</SUP>\"\n",
    "        index = f\"{subscript}{superscript}\"\n",
    "    elif subscript != \"\":\n",
    "        label = f\"<SUB>{subscript}</SUB>\"\n",
    "        index = f\"{subscript}\"\n",
    "    elif superscript != \"\":\n",
    "        label = f\"<SUP>{superscript}</SUP>\"\n",
    "        index = f\"{superscript}\"\n",
    "\n",
    "    if is_greek_letter:\n",
    "        dot.node(\n",
    "            f\"{character}{index}\",\n",
    "            f\"<&{character};<FONT POINT-SIZE='12'>{label}</FONT>>\",\n",
    "            color=color,\n",
    "            fontcolor=fontcolor,\n",
    "        )\n",
    "    else:\n",
    "        dot.node(\n",
    "            f\"{character}{index}\",\n",
    "            f\"<{character}<FONT POINT-SIZE='10'>{label}</FONT>>\",\n",
    "            style=\"filled\",\n",
    "            color=color,\n",
    "            fillcolor=fill_color,\n",
    "            fontcolor=fontcolor,\n",
    "        )"
   ],
   "execution_count": 2,
   "outputs": []
  },
  {
   "cell_type": "code",
   "metadata": {
    "id": "Ov1LPwllbv3G"
   },
   "source": [
    "def create_subgraph(\n",
    "    dot, hidden, observable, subscript, superscript, name, label=\"\", color=\"grey\", bgcolor=\"white\", edge_color=\"black\"\n",
    "):\n",
    "    dot.edge(f\"{hidden}{subscript}{superscript}\", f\"{observable}{subscript}{superscript}\", style=\"invis\")\n",
    "\n",
    "    with dot.subgraph(name=name) as c:\n",
    "        c.edge(label, f\"{hidden}{subscript}{superscript}\", style=\"invis\")\n",
    "        create_node(c, observable, subscript, superscript=superscript, color=obs_color, fill_color=obs_fill_color)\n",
    "        c.edge(f\"{observable}{subscript}{superscript}\", f\"{hidden}{subscript}{superscript}\", color=edge_color)\n",
    "        c.edge(f\"{hidden}{subscript}{superscript}\", f\"{observable}{subscript}{superscript}\", style=\"invis\")\n",
    "        c.attr(\n",
    "            style=\"rounded\",\n",
    "            color=color,\n",
    "            bgcolor=bgcolor,\n",
    "            label=f\"<<FONT POINT-SIZE='16'>{subscript.upper()}<SUP>{superscript}</SUP></FONT>>\",\n",
    "            fontcolor=color,\n",
    "            labeljust=\"r\",\n",
    "            labelloc=\"b\",\n",
    "        )"
   ],
   "execution_count": 3,
   "outputs": []
  },
  {
   "cell_type": "code",
   "metadata": {
    "id": "kPQejJFl_y99"
   },
   "source": [
    "def plot_cluster(dot, subscripts, superscript, subgraph_labels, subgraph_colors, theta_subscript=\"\"):\n",
    "    for k, (subscript, label, color) in enumerate(zip(subscripts, subgraph_labels, subgraph_colors)):\n",
    "        if subscript == \"N\":\n",
    "            create_node(\n",
    "                dot, hidden, subscript=subscript, superscript=superscript, color=hid_color, fill_color=hid_fill_color\n",
    "            )\n",
    "        else:\n",
    "            create_node(dot, hidden, subscript=subscript, superscript=superscript, color=hid_color)\n",
    "\n",
    "        subgraph_name = f\"cluster_{superscript}_{k}\"\n",
    "        dot.node(label, label, color=\"white\", fontcolor=color)\n",
    "        s = superscript if theta_subscript == \"\" else f\"{theta_subscript}{superscript}\"\n",
    "        dot.edge(f\"Theta{s}\", f\"{hidden}{subscript}{superscript}\", color=edge_color)\n",
    "        dot.edge(f\"Theta{s}\", f\"{label}\", style=\"invis\")\n",
    "\n",
    "        create_subgraph(\n",
    "            dot,\n",
    "            hidden,\n",
    "            observable,\n",
    "            subscript,\n",
    "            superscript,\n",
    "            subgraph_name,\n",
    "            label=label,\n",
    "            color=color,\n",
    "            bgcolor=\"white\",\n",
    "            edge_color=edge_color,\n",
    "        )"
   ],
   "execution_count": 4,
   "outputs": []
  },
  {
   "cell_type": "code",
   "metadata": {
    "colab": {
     "base_uri": "https://localhost:8080/",
     "height": 520
    },
    "id": "pY12UL4eJLMy",
    "outputId": "d61a4a5c-469f-4d4c-e949-9ae3a65e8fe4"
   },
   "source": [
    "dot = graphviz.Digraph(format=\"pdf\")\n",
    "\n",
    "\n",
    "# superscripts = ['1', 'T']\n",
    "superscripts = [\"1\", \"J\"]\n",
    "\n",
    "train_subscript, test_subscript = \"n\", \"m\"\n",
    "subscripts = [train_subscript, test_subscript]\n",
    "\n",
    "# subgraph_labels = ['Train', 'Test']\n",
    "subgraph_labels = [\"Train\", \"Valid\"]\n",
    "subgraph_colors = [\"/set34/4\", \"/paired3/2\"]\n",
    "\n",
    "edge_color = \"lightsteelblue4\"\n",
    "fontcolor = \"grey17\"\n",
    "hid_color, hid_fill_color = \"/accent3/2\", \"lavender\"\n",
    "obs_color, obs_fill_color = \"/paired3/3\", \"/pastel19/3\"\n",
    "\n",
    "param, hidden, observable = \"Theta\", \"Y\", \"X\"\n",
    "\n",
    "dot.node(\"phi\", \"<&Phi;>\", color=\"white\", fontcolor=fontcolor)\n",
    "\n",
    "for i, subscript in enumerate(superscripts):\n",
    "    create_node(dot, param, subscript, color=\"white\", fontcolor=fontcolor, is_greek_letter=True)\n",
    "    dot.edge(\"phi\", f\"{param}{subscript}\", color=edge_color)\n",
    "\n",
    "for i, superscript in enumerate(superscripts):\n",
    "    subgraph_labels = [f\"Train {superscript}\", f\"Valid {superscript}\"]\n",
    "    plot_cluster(dot, subscripts, superscript, subgraph_labels, subgraph_colors)\n",
    "\n",
    "    if i == 0:\n",
    "        dot.node(f\"blank{i}\", \"...\", color=\"white\")\n",
    "        dot.edge(f\"Theta{superscript}\", f\"blank{i}\", style=\"invis\")\n",
    "\n",
    "file_name = \"hbayes-maml\"\n",
    "dot.render(file_name, view=True)\n",
    "\n",
    "dot"
   ],
   "execution_count": 6,
   "outputs": [
    {
     "output_type": "execute_result",
     "data": {
      "text/plain": [
       "<graphviz.dot.Digraph at 0x7f6d3c31e890>"
      ],
      "image/svg+xml": "<?xml version=\"1.0\" encoding=\"UTF-8\" standalone=\"no\"?>\n<!DOCTYPE svg PUBLIC \"-//W3C//DTD SVG 1.1//EN\"\n \"http://www.w3.org/Graphics/SVG/1.1/DTD/svg11.dtd\">\n<!-- Generated by graphviz version 2.40.1 (20161225.0304)\n -->\n<!-- Title: %3 Pages: 1 -->\n<svg width=\"576pt\" height=\"374pt\"\n viewBox=\"0.00 0.00 576.00 374.00\" xmlns=\"http://www.w3.org/2000/svg\" xmlns:xlink=\"http://www.w3.org/1999/xlink\">\n<g id=\"graph0\" class=\"graph\" transform=\"scale(1 1) rotate(0) translate(4 370)\">\n<title>%3</title>\n<polygon fill=\"#ffffff\" stroke=\"transparent\" points=\"-4,4 -4,-370 572,-370 572,4 -4,4\"/>\n<g id=\"clust1\" class=\"cluster\">\n<title>cluster_1_0</title>\n<path fill=\"#ffffff\" stroke=\"#fb8072\" d=\"M20,-8C20,-8 88,-8 88,-8 94,-8 100,-14 100,-20 100,-20 100,-218 100,-218 100,-224 94,-230 88,-230 88,-230 20,-230 20,-230 14,-230 8,-224 8,-218 8,-218 8,-20 8,-20 8,-14 14,-8 20,-8\"/>\n<text text-anchor=\"start\" x=\"73\" y=\"-18.2\" font-family=\"Times,serif\" font-size=\"16.00\" fill=\"#fb8072\">N</text>\n<text text-anchor=\"start\" x=\"85\" y=\"-18.2\" font-family=\"Times,serif\" baseline-shift=\"super\" font-size=\"16.00\" fill=\"#fb8072\">1</text>\n</g>\n<g id=\"clust2\" class=\"cluster\">\n<title>cluster_1_1</title>\n<path fill=\"#ffffff\" stroke=\"#1f78b4\" d=\"M152,-8C152,-8 220,-8 220,-8 226,-8 232,-14 232,-20 232,-20 232,-218 232,-218 232,-224 226,-230 220,-230 220,-230 152,-230 152,-230 146,-230 140,-224 140,-218 140,-218 140,-20 140,-20 140,-14 146,-8 152,-8\"/>\n<text text-anchor=\"start\" x=\"202\" y=\"-18.2\" font-family=\"Times,serif\" font-size=\"16.00\" fill=\"#1f78b4\">M</text>\n<text text-anchor=\"start\" x=\"217\" y=\"-18.2\" font-family=\"Times,serif\" baseline-shift=\"super\" font-size=\"16.00\" fill=\"#1f78b4\">1</text>\n</g>\n<g id=\"clust3\" class=\"cluster\">\n<title>cluster_J_0</title>\n<path fill=\"#ffffff\" stroke=\"#fb8072\" d=\"M356,-8C356,-8 420,-8 420,-8 426,-8 432,-14 432,-20 432,-20 432,-218 432,-218 432,-224 426,-230 420,-230 420,-230 356,-230 356,-230 350,-230 344,-224 344,-218 344,-218 344,-20 344,-20 344,-14 350,-8 356,-8\"/>\n<text text-anchor=\"start\" x=\"406\" y=\"-18.2\" font-family=\"Times,serif\" font-size=\"16.00\" fill=\"#fb8072\">N</text>\n<text text-anchor=\"start\" x=\"418\" y=\"-18.2\" font-family=\"Times,serif\" baseline-shift=\"super\" font-size=\"16.00\" fill=\"#fb8072\">J</text>\n</g>\n<g id=\"clust4\" class=\"cluster\">\n<title>cluster_J_1</title>\n<path fill=\"#ffffff\" stroke=\"#1f78b4\" d=\"M484,-8C484,-8 548,-8 548,-8 554,-8 560,-14 560,-20 560,-20 560,-218 560,-218 560,-224 554,-230 548,-230 548,-230 484,-230 484,-230 478,-230 472,-224 472,-218 472,-218 472,-20 472,-20 472,-14 478,-8 484,-8\"/>\n<text text-anchor=\"start\" x=\"531\" y=\"-18.2\" font-family=\"Times,serif\" font-size=\"16.00\" fill=\"#1f78b4\">M</text>\n<text text-anchor=\"start\" x=\"546\" y=\"-18.2\" font-family=\"Times,serif\" baseline-shift=\"super\" font-size=\"16.00\" fill=\"#1f78b4\">J</text>\n</g>\n<!-- phi -->\n<g id=\"node1\" class=\"node\">\n<title>phi</title>\n<ellipse fill=\"none\" stroke=\"#ffffff\" cx=\"254\" cy=\"-348\" rx=\"27\" ry=\"18\"/>\n<text text-anchor=\"start\" x=\"248.5\" y=\"-344.3\" font-family=\"Times,serif\" font-size=\"14.00\" fill=\"#2b2b2b\">Φ</text>\n</g>\n<!-- Theta1 -->\n<g id=\"node2\" class=\"node\">\n<title>Theta1</title>\n<ellipse fill=\"none\" stroke=\"#ffffff\" cx=\"153\" cy=\"-276\" rx=\"27\" ry=\"18\"/>\n<text text-anchor=\"start\" x=\"144.5\" y=\"-273.3\" font-family=\"Times,serif\" font-size=\"14.00\" fill=\"#2b2b2b\">Θ</text>\n<text text-anchor=\"start\" x=\"155.5\" y=\"-273.3\" font-family=\"Times,serif\" baseline-shift=\"sub\" font-size=\"12.00\" fill=\"#2b2b2b\">1</text>\n</g>\n<!-- phi&#45;&gt;Theta1 -->\n<g id=\"edge1\" class=\"edge\">\n<title>phi&#45;&gt;Theta1</title>\n<path fill=\"none\" stroke=\"#6e7b8b\" d=\"M235.475,-334.7941C219.912,-323.6996 197.4661,-307.6986 179.9186,-295.1895\"/>\n<polygon fill=\"#6e7b8b\" stroke=\"#6e7b8b\" points=\"181.924,-292.3208 171.7496,-289.366 177.8607,-298.0208 181.924,-292.3208\"/>\n</g>\n<!-- ThetaJ -->\n<g id=\"node3\" class=\"node\">\n<title>ThetaJ</title>\n<ellipse fill=\"none\" stroke=\"#ffffff\" cx=\"388\" cy=\"-276\" rx=\"27\" ry=\"18\"/>\n<text text-anchor=\"start\" x=\"380.5\" y=\"-273.3\" font-family=\"Times,serif\" font-size=\"14.00\" fill=\"#2b2b2b\">Θ</text>\n<text text-anchor=\"start\" x=\"391.5\" y=\"-273.3\" font-family=\"Times,serif\" baseline-shift=\"sub\" font-size=\"12.00\" fill=\"#2b2b2b\">J</text>\n</g>\n<!-- phi&#45;&gt;ThetaJ -->\n<g id=\"edge2\" class=\"edge\">\n<title>phi&#45;&gt;ThetaJ</title>\n<path fill=\"none\" stroke=\"#6e7b8b\" d=\"M275.2327,-336.5914C297.4815,-324.6368 332.6281,-305.752 357.7689,-292.2436\"/>\n<polygon fill=\"#6e7b8b\" stroke=\"#6e7b8b\" points=\"359.7143,-295.1716 366.8666,-287.3552 356.4011,-289.0053 359.7143,-295.1716\"/>\n</g>\n<!-- Yn1 -->\n<g id=\"node4\" class=\"node\">\n<title>Yn1</title>\n<ellipse fill=\"#ffffff\" stroke=\"#beaed4\" cx=\"48\" cy=\"-132\" rx=\"27\" ry=\"18\"/>\n<text text-anchor=\"start\" x=\"37.5\" y=\"-129.3\" font-family=\"Times,serif\" font-size=\"14.00\" fill=\"#000000\">Y</text>\n<text text-anchor=\"start\" x=\"48.5\" y=\"-129.3\" font-family=\"Times,serif\" baseline-shift=\"sub\" font-size=\"10.00\" fill=\"#000000\">n</text>\n<text text-anchor=\"start\" x=\"53.5\" y=\"-129.3\" font-family=\"Times,serif\" baseline-shift=\"super\" font-size=\"10.00\" fill=\"#000000\">1</text>\n</g>\n<!-- Theta1&#45;&gt;Yn1 -->\n<g id=\"edge3\" class=\"edge\">\n<title>Theta1&#45;&gt;Yn1</title>\n<path fill=\"none\" stroke=\"#6e7b8b\" d=\"M126.7262,-271.5213C88.6896,-264.4415 21.2628,-249.4478 7,-230 -9.9468,-206.8926 8.7807,-175.7344 26.1213,-154.8101\"/>\n<polygon fill=\"#6e7b8b\" stroke=\"#6e7b8b\" points=\"28.9408,-156.9017 32.8668,-147.0611 23.661,-152.3056 28.9408,-156.9017\"/>\n</g>\n<!-- Train 1 -->\n<g id=\"node5\" class=\"node\">\n<title>Train 1</title>\n<ellipse fill=\"none\" stroke=\"#ffffff\" cx=\"54\" cy=\"-204\" rx=\"37.8943\" ry=\"18\"/>\n<text text-anchor=\"middle\" x=\"54\" y=\"-200.3\" font-family=\"Times,serif\" font-size=\"14.00\" fill=\"#fb8072\">Train 1</text>\n</g>\n<!-- Theta1&#45;&gt;Train 1 -->\n<!-- Ym1 -->\n<g id=\"node7\" class=\"node\">\n<title>Ym1</title>\n<ellipse fill=\"#ffffff\" stroke=\"#beaed4\" cx=\"180\" cy=\"-132\" rx=\"27\" ry=\"18\"/>\n<text text-anchor=\"start\" x=\"168.5\" y=\"-129.3\" font-family=\"Times,serif\" font-size=\"14.00\" fill=\"#000000\">Y</text>\n<text text-anchor=\"start\" x=\"179.5\" y=\"-129.3\" font-family=\"Times,serif\" baseline-shift=\"sub\" font-size=\"10.00\" fill=\"#000000\">m</text>\n<text text-anchor=\"start\" x=\"186.5\" y=\"-129.3\" font-family=\"Times,serif\" baseline-shift=\"super\" font-size=\"10.00\" fill=\"#000000\">1</text>\n</g>\n<!-- Theta1&#45;&gt;Ym1 -->\n<g id=\"edge9\" class=\"edge\">\n<title>Theta1&#45;&gt;Ym1</title>\n<path fill=\"none\" stroke=\"#6e7b8b\" d=\"M145.5439,-258.6686C138.7013,-240.2356 130.7771,-210.4282 139,-186 142.8527,-174.5547 150.2022,-163.6102 157.6271,-154.6034\"/>\n<polygon fill=\"#6e7b8b\" stroke=\"#6e7b8b\" points=\"160.4056,-156.7433 164.3689,-146.9177 155.1433,-152.1273 160.4056,-156.7433\"/>\n</g>\n<!-- Valid 1 -->\n<g id=\"node8\" class=\"node\">\n<title>Valid 1</title>\n<ellipse fill=\"none\" stroke=\"#ffffff\" cx=\"186\" cy=\"-204\" rx=\"37.8943\" ry=\"18\"/>\n<text text-anchor=\"middle\" x=\"186\" y=\"-200.3\" font-family=\"Times,serif\" font-size=\"14.00\" fill=\"#1f78b4\">Valid 1</text>\n</g>\n<!-- Theta1&#45;&gt;Valid 1 -->\n<!-- blank0 -->\n<g id=\"node10\" class=\"node\">\n<title>blank0</title>\n<ellipse fill=\"none\" stroke=\"#ffffff\" cx=\"269\" cy=\"-204\" rx=\"27\" ry=\"18\"/>\n<text text-anchor=\"middle\" x=\"269\" y=\"-200.3\" font-family=\"Times,serif\" font-size=\"14.00\" fill=\"#000000\">...</text>\n</g>\n<!-- Theta1&#45;&gt;blank0 -->\n<!-- YnJ -->\n<g id=\"node11\" class=\"node\">\n<title>YnJ</title>\n<ellipse fill=\"#ffffff\" stroke=\"#beaed4\" cx=\"383\" cy=\"-132\" rx=\"27\" ry=\"18\"/>\n<text text-anchor=\"start\" x=\"373\" y=\"-129.3\" font-family=\"Times,serif\" font-size=\"14.00\" fill=\"#000000\">Y</text>\n<text text-anchor=\"start\" x=\"384\" y=\"-129.3\" font-family=\"Times,serif\" baseline-shift=\"sub\" font-size=\"10.00\" fill=\"#000000\">n</text>\n<text text-anchor=\"start\" x=\"389\" y=\"-129.3\" font-family=\"Times,serif\" baseline-shift=\"super\" font-size=\"10.00\" fill=\"#000000\">J</text>\n</g>\n<!-- ThetaJ&#45;&gt;YnJ -->\n<g id=\"edge16\" class=\"edge\">\n<title>ThetaJ&#45;&gt;YnJ</title>\n<path fill=\"none\" stroke=\"#6e7b8b\" d=\"M369.0848,-262.5448C359.2996,-254.3817 348.3154,-243.0346 343,-230 335.6158,-211.8922 336.8712,-204.5704 343,-186 346.7513,-174.6335 353.9201,-163.7047 361.1648,-154.6883\"/>\n<polygon fill=\"#6e7b8b\" stroke=\"#6e7b8b\" points=\"363.909,-156.8645 367.7435,-146.9879 358.5868,-152.3175 363.909,-156.8645\"/>\n</g>\n<!-- Train J -->\n<g id=\"node12\" class=\"node\">\n<title>Train J</title>\n<ellipse fill=\"none\" stroke=\"#ffffff\" cx=\"388\" cy=\"-204\" rx=\"36.2938\" ry=\"18\"/>\n<text text-anchor=\"middle\" x=\"388\" y=\"-200.3\" font-family=\"Times,serif\" font-size=\"14.00\" fill=\"#fb8072\">Train J</text>\n</g>\n<!-- ThetaJ&#45;&gt;Train J -->\n<!-- YmJ -->\n<g id=\"node14\" class=\"node\">\n<title>YmJ</title>\n<ellipse fill=\"#ffffff\" stroke=\"#beaed4\" cx=\"511\" cy=\"-132\" rx=\"27\" ry=\"18\"/>\n<text text-anchor=\"start\" x=\"500\" y=\"-129.3\" font-family=\"Times,serif\" font-size=\"14.00\" fill=\"#000000\">Y</text>\n<text text-anchor=\"start\" x=\"511\" y=\"-129.3\" font-family=\"Times,serif\" baseline-shift=\"sub\" font-size=\"10.00\" fill=\"#000000\">m</text>\n<text text-anchor=\"start\" x=\"518\" y=\"-129.3\" font-family=\"Times,serif\" baseline-shift=\"super\" font-size=\"10.00\" fill=\"#000000\">J</text>\n</g>\n<!-- ThetaJ&#45;&gt;YmJ -->\n<g id=\"edge22\" class=\"edge\">\n<title>ThetaJ&#45;&gt;YmJ</title>\n<path fill=\"none\" stroke=\"#6e7b8b\" d=\"M404.6112,-261.2573C414.1482,-252.5097 426.1482,-241.0097 436,-230 447.6296,-217.0034 474.8004,-180.9023 493.0418,-156.3398\"/>\n<polygon fill=\"#6e7b8b\" stroke=\"#6e7b8b\" points=\"495.9396,-158.308 499.0816,-148.1898 490.3155,-154.1402 495.9396,-158.308\"/>\n</g>\n<!-- Valid J -->\n<g id=\"node15\" class=\"node\">\n<title>Valid J</title>\n<ellipse fill=\"none\" stroke=\"#ffffff\" cx=\"516\" cy=\"-204\" rx=\"36.2938\" ry=\"18\"/>\n<text text-anchor=\"middle\" x=\"516\" y=\"-200.3\" font-family=\"Times,serif\" font-size=\"14.00\" fill=\"#1f78b4\">Valid J</text>\n</g>\n<!-- ThetaJ&#45;&gt;Valid J -->\n<!-- Xn1 -->\n<g id=\"node6\" class=\"node\">\n<title>Xn1</title>\n<ellipse fill=\"#ccebc5\" stroke=\"#b2df8a\" cx=\"48\" cy=\"-60\" rx=\"27\" ry=\"18\"/>\n<text text-anchor=\"start\" x=\"37.5\" y=\"-57.3\" font-family=\"Times,serif\" font-size=\"14.00\" fill=\"#000000\">X</text>\n<text text-anchor=\"start\" x=\"48.5\" y=\"-57.3\" font-family=\"Times,serif\" baseline-shift=\"sub\" font-size=\"10.00\" fill=\"#000000\">n</text>\n<text text-anchor=\"start\" x=\"53.5\" y=\"-57.3\" font-family=\"Times,serif\" baseline-shift=\"super\" font-size=\"10.00\" fill=\"#000000\">1</text>\n</g>\n<!-- Yn1&#45;&gt;Xn1 -->\n<!-- Yn1&#45;&gt;Xn1 -->\n<!-- Train 1&#45;&gt;Yn1 -->\n<!-- Xn1&#45;&gt;Yn1 -->\n<g id=\"edge7\" class=\"edge\">\n<title>Xn1&#45;&gt;Yn1</title>\n<path fill=\"none\" stroke=\"#6e7b8b\" d=\"M48,-78.4133C48,-86.0593 48,-95.1084 48,-103.5726\"/>\n<polygon fill=\"#6e7b8b\" stroke=\"#6e7b8b\" points=\"44.5001,-103.8313 48,-113.8314 51.5001,-103.8314 44.5001,-103.8313\"/>\n</g>\n<!-- Xm1 -->\n<g id=\"node9\" class=\"node\">\n<title>Xm1</title>\n<ellipse fill=\"#ccebc5\" stroke=\"#b2df8a\" cx=\"180\" cy=\"-60\" rx=\"27\" ry=\"18\"/>\n<text text-anchor=\"start\" x=\"168.5\" y=\"-57.3\" font-family=\"Times,serif\" font-size=\"14.00\" fill=\"#000000\">X</text>\n<text text-anchor=\"start\" x=\"179.5\" y=\"-57.3\" font-family=\"Times,serif\" baseline-shift=\"sub\" font-size=\"10.00\" fill=\"#000000\">m</text>\n<text text-anchor=\"start\" x=\"186.5\" y=\"-57.3\" font-family=\"Times,serif\" baseline-shift=\"super\" font-size=\"10.00\" fill=\"#000000\">1</text>\n</g>\n<!-- Ym1&#45;&gt;Xm1 -->\n<!-- Ym1&#45;&gt;Xm1 -->\n<!-- Valid 1&#45;&gt;Ym1 -->\n<!-- Xm1&#45;&gt;Ym1 -->\n<g id=\"edge13\" class=\"edge\">\n<title>Xm1&#45;&gt;Ym1</title>\n<path fill=\"none\" stroke=\"#6e7b8b\" d=\"M180,-78.4133C180,-86.0593 180,-95.1084 180,-103.5726\"/>\n<polygon fill=\"#6e7b8b\" stroke=\"#6e7b8b\" points=\"176.5001,-103.8313 180,-113.8314 183.5001,-103.8314 176.5001,-103.8313\"/>\n</g>\n<!-- XnJ -->\n<g id=\"node13\" class=\"node\">\n<title>XnJ</title>\n<ellipse fill=\"#ccebc5\" stroke=\"#b2df8a\" cx=\"383\" cy=\"-60\" rx=\"27\" ry=\"18\"/>\n<text text-anchor=\"start\" x=\"373\" y=\"-57.3\" font-family=\"Times,serif\" font-size=\"14.00\" fill=\"#000000\">X</text>\n<text text-anchor=\"start\" x=\"384\" y=\"-57.3\" font-family=\"Times,serif\" baseline-shift=\"sub\" font-size=\"10.00\" fill=\"#000000\">n</text>\n<text text-anchor=\"start\" x=\"389\" y=\"-57.3\" font-family=\"Times,serif\" baseline-shift=\"super\" font-size=\"10.00\" fill=\"#000000\">J</text>\n</g>\n<!-- YnJ&#45;&gt;XnJ -->\n<!-- YnJ&#45;&gt;XnJ -->\n<!-- Train J&#45;&gt;YnJ -->\n<!-- XnJ&#45;&gt;YnJ -->\n<g id=\"edge20\" class=\"edge\">\n<title>XnJ&#45;&gt;YnJ</title>\n<path fill=\"none\" stroke=\"#6e7b8b\" d=\"M383,-78.4133C383,-86.0593 383,-95.1084 383,-103.5726\"/>\n<polygon fill=\"#6e7b8b\" stroke=\"#6e7b8b\" points=\"379.5001,-103.8313 383,-113.8314 386.5001,-103.8314 379.5001,-103.8313\"/>\n</g>\n<!-- XmJ -->\n<g id=\"node16\" class=\"node\">\n<title>XmJ</title>\n<ellipse fill=\"#ccebc5\" stroke=\"#b2df8a\" cx=\"511\" cy=\"-60\" rx=\"27\" ry=\"18\"/>\n<text text-anchor=\"start\" x=\"500\" y=\"-57.3\" font-family=\"Times,serif\" font-size=\"14.00\" fill=\"#000000\">X</text>\n<text text-anchor=\"start\" x=\"511\" y=\"-57.3\" font-family=\"Times,serif\" baseline-shift=\"sub\" font-size=\"10.00\" fill=\"#000000\">m</text>\n<text text-anchor=\"start\" x=\"518\" y=\"-57.3\" font-family=\"Times,serif\" baseline-shift=\"super\" font-size=\"10.00\" fill=\"#000000\">J</text>\n</g>\n<!-- YmJ&#45;&gt;XmJ -->\n<!-- YmJ&#45;&gt;XmJ -->\n<!-- Valid J&#45;&gt;YmJ -->\n<!-- XmJ&#45;&gt;YmJ -->\n<g id=\"edge26\" class=\"edge\">\n<title>XmJ&#45;&gt;YmJ</title>\n<path fill=\"none\" stroke=\"#6e7b8b\" d=\"M511,-78.4133C511,-86.0593 511,-95.1084 511,-103.5726\"/>\n<polygon fill=\"#6e7b8b\" stroke=\"#6e7b8b\" points=\"507.5001,-103.8313 511,-113.8314 514.5001,-103.8314 507.5001,-103.8313\"/>\n</g>\n</g>\n</svg>\n"
     },
     "metadata": {},
     "execution_count": 6
    }
   ]
  },
  {
   "cell_type": "code",
   "metadata": {
    "id": "MDO7i9-QQojm"
   },
   "source": [
    ""
   ],
   "execution_count": null,
   "outputs": []
  }
 ]
}
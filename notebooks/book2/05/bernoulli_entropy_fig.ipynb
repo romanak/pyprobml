{
 "cells": [
  {
   "cell_type": "markdown",
   "id": "fd87ac35",
   "metadata": {},
   "source": [
    "Source of this notebook is here: https://colab.research.google.com/github/probml/pyprobml/blob/master/notebooks/book1/06/bernoulli_entropy_fig.ipynb"
   ]
  }
 ],
 "metadata": {},
 "nbformat": 4,
 "nbformat_minor": 5
}

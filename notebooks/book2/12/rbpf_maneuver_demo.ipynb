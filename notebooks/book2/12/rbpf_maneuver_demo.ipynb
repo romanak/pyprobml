{
 "cells": [
  {
   "cell_type": "markdown",
   "id": "d4b046e2",
   "metadata": {},
   "source": [
    "Source of this notebook is here: https://github.com/probml/JSL/blob/main/jsl/demos/rbpf_maneuver_demo.py"
   ]
  }
 ],
 "metadata": {},
 "nbformat": 4,
 "nbformat_minor": 5
}

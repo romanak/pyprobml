{
 "cells": [
  {
   "cell_type": "markdown",
   "id": "e1c6672d",
   "metadata": {},
   "source": [
    "Source of this notebook is here: https://github.com/probml/JSL/blob/main/jsl/demos/sis_vs_smc.py"
   ]
  }
 ],
 "metadata": {},
 "nbformat": 4,
 "nbformat_minor": 5
}

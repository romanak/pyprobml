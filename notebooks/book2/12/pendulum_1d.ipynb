{
 "cells": [
  {
   "cell_type": "markdown",
   "id": "6c2873aa",
   "metadata": {},
   "source": [
    "Source of this notebook is here: https://github.com/probml/JSL/blob/main/jsl/demos/pendulum_1d.py"
   ]
  }
 ],
 "metadata": {},
 "nbformat": 4,
 "nbformat_minor": 5
}

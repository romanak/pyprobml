{
 "cells": [
  {
   "cell_type": "markdown",
   "id": "b4ee276b",
   "metadata": {},
   "source": [
    "Source of this notebook is here: https://github.com/probml/JSL/blob/main/jsl/demos/rbpf_maneuver.py"
   ]
  }
 ],
 "metadata": {},
 "nbformat": 4,
 "nbformat_minor": 5
}

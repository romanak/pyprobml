{
 "cells": [
  {
   "cell_type": "code",
   "execution_count": null,
   "id": "a4302392",
   "metadata": {},
   "outputs": [],
   "source": [
    "# This file show a demo of showing that MLE(precision matrix) of a ggm\n",
    "# satisfies the constraints mentioned in the GGM section of the book.\n",
    "\n",
    "\n",
    "import numpy as np\n",
    "\n",
    "try:\n",
    "    from ggm_fit_htf import ggm_fit_htf\n",
    "except ModuleNotFoundError:\n",
    "    %pip install ggm_fit_htf\n",
    "    from ggm_fit_htf import ggm_fit_htf\n",
    "\n",
    "G = np.array([0.0, 1.0, 0.0, 1, 1, 0, 1, 0, 0, 1, 0, 1, 1, 0, 1, 0]).reshape((4, 4))\n",
    "\n",
    "S = np.array([10.0, 1.0, 5.0, 4.0, 1.0, 10.0, 2.0, 6.0, 5.0, 2.0, 10.0, 3.0, 4.0, 6.0, 3.0, 10]).reshape((4, 4))\n",
    "\n",
    "max_iter = 30\n",
    "\n",
    "\n",
    "prec_mat = ggm_fit_htf(S, G, max_iter)\n",
    "sigma = np.linalg.inv(prec_mat)\n",
    "\n",
    "guide_sigma = np.array([10.0, 1.0, 1.31, 4, 1.0, 10.0, 2.0, 0.87, 1.31, 2.0, 10.0, 3, 4.0, 0.87, 3.0, 10.0]).reshape(\n",
    "    4, 4\n",
    ")\n",
    "\n",
    "guide_prec_mat = np.array(\n",
    "    [0.12, -0.01, 0, -0.05, -0.01, 0.11, -0.02, 0.0, 0, -0.02, 0.11, -0.03, -0.05, 0, -0.03, 0.13]\n",
    ").reshape(4, 4)\n",
    "\n",
    "assert np.all(sigma - guide_sigma < 1e-2)\n",
    "assert np.all(prec_mat - guide_prec_mat < 1e-2)"
   ]
  }
 ],
 "metadata": {},
 "nbformat": 4,
 "nbformat_minor": 5
}

{
 "cells": [
  {
   "cell_type": "code",
   "execution_count": null,
   "id": "fb9188a8",
   "metadata": {},
   "outputs": [],
   "source": [
    "# -*- coding: utf-8 -*-\n",
    "\n",
    "\n",
    "from math import floor\n",
    "from numpy import arange\n",
    "from scipy.stats import gamma\n",
    "import matplotlib.pyplot as plt\n",
    "\n",
    "alpha = 5.7\n",
    "lam = 2\n",
    "\n",
    "k = floor(alpha)\n",
    "M = gamma.pdf(alpha - k, alpha, scale=1 / lam) / gamma.pdf(alpha - k, k, scale=1 / (lam - 1))\n",
    "xs = arange(0, 10, 0.01)\n",
    "\n",
    "fig, ax = plt.subplots()\n",
    "ax.set_xlim(0, 10)\n",
    "ax.set_ylim(0, 1.4)\n",
    "ax.plot(xs, gamma.pdf(xs, alpha, scale=1 / lam), \"b-\", linewidth=3, label=\"target p(x)\")\n",
    "ax.plot(xs, M * gamma.pdf(xs, k, scale=1 / (lam - 1)), \"r:\", linewidth=3, label=\"comparison function Mq(x)\")\n",
    "ax.legend(loc=\"upper right\")\n",
    "plt.show()"
   ]
  }
 ],
 "metadata": {},
 "nbformat": 4,
 "nbformat_minor": 5
}

{
 "cells": [
  {
   "cell_type": "code",
   "execution_count": null,
   "id": "ce096bbb",
   "metadata": {},
   "outputs": [],
   "source": [
    "\n",
    "\n",
    "import numpy as np\n",
    "import matplotlib.pyplot as plt\n",
    "import os\n",
    "try:\n",
    "    import probml_utils as pml\n",
    "except ModuleNotFoundError:\n",
    "    %pip install git+https://github.com/probml/probml-utils.git\n",
    "    import probml_utils as pml\n",
    "\n",
    "np.random.seed(0)\n",
    "N = 5000\n",
    "r = 2\n",
    "xs = np.random.uniform(low=-r, high=r, size=N)\n",
    "ys = np.random.uniform(low=-r, high=r, size=N)\n",
    "rs = xs ** 2 + ys ** 2\n",
    "inside = (rs <= r**2)\n",
    "samples = 4*(r**2)*inside\n",
    "Ihat = np.mean(samples)\n",
    "pi_estimate = Ihat/(r**2)\n",
    "se = np.sqrt(np.var(samples)/N)\n",
    "print(('the estimated pi = %f' % pi_estimate))\n",
    "print(('the standard pi = %f' % np.pi))\n",
    "print(('stderr = %f' % se))\n",
    "\n",
    "plt.figure(figsize=(5, 5))\n",
    "plt.plot(xs[inside], ys[inside], 'bo')\n",
    "plt.plot(xs[~inside], ys[~inside], 'rD')\n",
    "pml.savefig('mcEstimatePi.pdf')\n",
    "plt.show()\n"
   ]
  }
 ],
 "metadata": {},
 "nbformat": 4,
 "nbformat_minor": 5
}

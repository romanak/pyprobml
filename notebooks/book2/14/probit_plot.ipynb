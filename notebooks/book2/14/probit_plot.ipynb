{
 "cells": [
  {
   "cell_type": "code",
   "execution_count": null,
   "id": "05c59b49",
   "metadata": {},
   "outputs": [],
   "source": [
    "# Plots Sigmoid vs. Probit.\n",
    "\n",
    "\n",
    "import numpy as np\n",
    "import matplotlib.pyplot as plt\n",
    "\n",
    "try:\n",
    "    import probml_utils as pml\n",
    "except ModuleNotFoundError:\n",
    "    %pip install git+https://github.com/probml/probml-utils.git\n",
    "    import probml_utils as pml\n",
    "\n",
    "from scipy.special import expit\n",
    "from scipy.stats import norm\n",
    "\n",
    "x = np.arange(-6, 6, 0.1)\n",
    "l = np.sqrt(np.pi / 8)\n",
    "plt.plot(x, expit(x), \"r-\", label=\"sigmoid\")\n",
    "plt.plot(x, norm.cdf(l * x), \"b--\", label=\"probit\")\n",
    "\n",
    "plt.axis([-6, 6, 0, 1])\n",
    "plt.legend()\n",
    "pml.savefig(\"probitSigmoidPlot.pdf\")\n",
    "plt.show()"
   ]
  }
 ],
 "metadata": {},
 "nbformat": 4,
 "nbformat_minor": 5
}

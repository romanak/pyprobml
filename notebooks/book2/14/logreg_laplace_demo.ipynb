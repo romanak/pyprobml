{
 "cells": [
  {
   "cell_type": "markdown",
   "id": "d0ef0b1e",
   "metadata": {},
   "source": [
    "Source of this notebook is here: https://colab.research.google.com/github/probml/pyprobml/blob/master/notebooks/book1/10/logreg_laplace_demo.ipynb"
   ]
  }
 ],
 "metadata": {},
 "nbformat": 4,
 "nbformat_minor": 5
}

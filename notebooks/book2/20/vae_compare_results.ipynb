{
 "cells": [
  {
   "cell_type": "markdown",
   "id": "838571e6",
   "metadata": {},
   "source": [
    "Source of this notebook is here: https://colab.research.google.com/github/probml/pyprobml/blob/master/notebooks/book2/19/vae_compare_results.ipynb"
   ]
  }
 ],
 "metadata": {
  "accelerator": "GPU",
  "colab": {
   "collapsed_sections": [],
   "include_colab_link": true,
   "name": "compare_results.ipynb",
   "provenance": [],
   "toc_visible": true
  },
  "interpreter": {
   "hash": "70cf6aaf009a5de79d0c9164f9cd72f71ed7f109548e8202b6e840f3b8b1e73f"
  },
  "kernelspec": {
   "display_name": "Python 3.7.10 64-bit ('dgflowenv': conda)",
   "name": "python3"
  },
  "language_info": {
   "codemirror_mode": {
    "name": "ipython",
    "version": 3
   },
   "file_extension": ".py",
   "mimetype": "text/x-python",
   "name": "python",
   "nbconvert_exporter": "python",
   "pygments_lexer": "ipython3",
   "version": "3.7.10"
  }
 },
 "nbformat": 4,
 "nbformat_minor": 0
}

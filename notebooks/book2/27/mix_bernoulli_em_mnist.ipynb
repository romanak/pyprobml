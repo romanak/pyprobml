{
 "cells": [
  {
   "cell_type": "markdown",
   "id": "54d4e8be",
   "metadata": {},
   "source": [
    "Source of this notebook is here: https://colab.research.google.com/github/probml/pyprobml/blob/master/notebooks/book1/03/mix_bernoulli_em_mnist.ipynb"
   ]
  }
 ],
 "metadata": {},
 "nbformat": 4,
 "nbformat_minor": 5
}

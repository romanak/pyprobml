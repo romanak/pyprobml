{
 "cells": [
  {
   "cell_type": "markdown",
   "id": "618d2bb8",
   "metadata": {},
   "source": [
    "Source of this notebook is here: https://colab.research.google.com/github/probml/pyprobml/blob/master/notebooks/book1/21/gmm_2d.ipynb"
   ]
  }
 ],
 "metadata": {},
 "nbformat": 4,
 "nbformat_minor": 5
}

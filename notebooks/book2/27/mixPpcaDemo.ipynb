{
 "cells": [
  {
   "cell_type": "markdown",
   "id": "f8944607",
   "metadata": {},
   "source": [
    "Source of this notebook is here: https://colab.research.google.com/github/probml/pyprobml/blob/master/notebooks/book1/20/mixPpcaDemo.ipynb"
   ]
  }
 ],
 "metadata": {},
 "nbformat": 4,
 "nbformat_minor": 5
}

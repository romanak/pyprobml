{
 "cells": [
  {
   "cell_type": "markdown",
   "id": "0013caa6",
   "metadata": {},
   "source": [
    "Source of this notebook is here: https://colab.research.google.com/github/probml/pyprobml/blob/master/notebooks/book1/13/activation_fun_deriv_jax.ipynb"
   ]
  }
 ],
 "metadata": {
  "colab": {
   "name": "activation-fun-deriv-jax.ipynb",
   "provenance": []
  },
  "kernelspec": {
   "display_name": "Python 3",
   "name": "python3"
  },
  "language_info": {
   "name": "python"
  }
 },
 "nbformat": 4,
 "nbformat_minor": 0
}

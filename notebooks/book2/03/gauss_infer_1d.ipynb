{
 "cells": [
  {
   "cell_type": "markdown",
   "id": "49cc3538",
   "metadata": {},
   "source": [
    "Source of this notebook is here: https://colab.research.google.com/github/probml/pyprobml/blob/master/notebooks/book1/04/gauss_infer_1d.ipynb"
   ]
  }
 ],
 "metadata": {},
 "nbformat": 4,
 "nbformat_minor": 5
}

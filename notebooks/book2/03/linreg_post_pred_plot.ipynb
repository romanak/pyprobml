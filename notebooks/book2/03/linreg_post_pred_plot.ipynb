{
 "cells": [
  {
   "cell_type": "markdown",
   "id": "bd6e730c",
   "metadata": {},
   "source": [
    "Source of this notebook is here: https://colab.research.google.com/github/probml/pyprobml/blob/master/notebooks/book1/11/linreg_post_pred_plot.ipynb"
   ]
  }
 ],
 "metadata": {},
 "nbformat": 4,
 "nbformat_minor": 5
}

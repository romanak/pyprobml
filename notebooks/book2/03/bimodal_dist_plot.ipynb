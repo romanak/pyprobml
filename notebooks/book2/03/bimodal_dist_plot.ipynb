{
 "cells": [
  {
   "cell_type": "markdown",
   "id": "c5ebe3fa",
   "metadata": {},
   "source": [
    "Source of this notebook is here: https://colab.research.google.com/github/probml/pyprobml/blob/master/notebooks/book1/02/bimodal_dist_plot.ipynb"
   ]
  }
 ],
 "metadata": {},
 "nbformat": 4,
 "nbformat_minor": 5
}

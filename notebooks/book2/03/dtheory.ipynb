{
 "cells": [
  {
   "cell_type": "markdown",
   "id": "4e2b879d",
   "metadata": {},
   "source": [
    "Source of this notebook is here: https://colab.research.google.com/github/probml/pyprobml/blob/master/notebooks/book1/05/dtheory.ipynb"
   ]
  }
 ],
 "metadata": {
  "colab": {
   "authorship_tag": "ABX9TyORiHPvLOJ2wbLn/hWgvBfh",
   "collapsed_sections": [],
   "include_colab_link": true,
   "name": "dtheory.ipynb",
   "provenance": [],
   "toc_visible": true
  },
  "kernelspec": {
   "display_name": "Python 3",
   "name": "python3"
  },
  "language_info": {
   "name": "python"
  }
 },
 "nbformat": 4,
 "nbformat_minor": 0
}

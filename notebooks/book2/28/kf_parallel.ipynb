{
 "cells": [
  {
   "cell_type": "markdown",
   "id": "b9420eab",
   "metadata": {},
   "source": [
    "Source of this notebook is here: https://github.com/probml/JSL/blob/main/jsl/demos/kf_parallel.py"
   ]
  }
 ],
 "metadata": {},
 "nbformat": 4,
 "nbformat_minor": 5
}

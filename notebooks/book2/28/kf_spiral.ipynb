{
 "cells": [
  {
   "cell_type": "markdown",
   "id": "f9fe3938",
   "metadata": {},
   "source": [
    "Source of this notebook is here: https://github.com/probml/JSL/blob/main/jsl/demos/kf_spiral.py"
   ]
  }
 ],
 "metadata": {},
 "nbformat": 4,
 "nbformat_minor": 5
}

{
 "cells": [
  {
   "cell_type": "markdown",
   "id": "97ab0f47",
   "metadata": {},
   "source": [
    "Source of this notebook is here: https://colab.research.google.com/github/probml/pyprobml/blob/master/notebooks/book1/08/emLogLikelihoodMax.ipynb"
   ]
  }
 ],
 "metadata": {},
 "nbformat": 4,
 "nbformat_minor": 5
}

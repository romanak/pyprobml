{
  "cells": [
    {
      "cell_type": "code",
      "execution_count": 10,
      "metadata": {},
      "outputs": [
        {
          "name": "stdout",
          "output_type": "stream",
          "text": [
            "done\n"
          ]
        }
      ],
      "source": [
        "import os \n",
        "# 2x 2 chips (4 cores) per process:\n",
        "os.environ[\"TPU_CHIPS_PER_HOST_BOUNDS\"] = \"1,2,1\"\n",
        "os.environ[\"TPU_HOST_BOUNDS\"] = \"1,1,1\"\n",
        "# Different per process:\n",
        "os.environ[\"TPU_VISIBLE_DEVICES\"] = \"0,1\" # Change to \"2,3\" for the second machine\n",
        "# Pick a unique port per process\n",
        "os.environ[\"TPU_MESH_CONTROLLER_ADDRESS\"] = \"localhost:8476\"\n",
        "os.environ[\"TPU_MESH_CONTROLLER_PORT\"] = \"8476\"\n",
        "\n",
        "print('done')"
      ]
    },
    {
      "cell_type": "code",
      "execution_count": 1,
      "metadata": {},
      "outputs": [
        {
          "name": "stderr",
          "output_type": "stream",
          "text": [
            "WARNING:absl:No GPU/TPU found, falling back to CPU. (Set TF_CPP_MIN_LOG_LEVEL=0 and rerun for more info.)\n"
          ]
        },
        {
          "name": "stdout",
          "output_type": "stream",
          "text": [
            "[CpuDevice(id=0)]\n"
          ]
        }
      ],
      "source": [
        "import jax\n",
        "print(jax.devices())#"
      ]
    },
    {
      "cell_type": "code",
      "execution_count": 2,
      "metadata": {},
      "outputs": [
        {
          "name": "stdout",
          "output_type": "stream",
          "text": [
            "[[0]\n",
            " [0]\n",
            " [0]\n",
            " [0]\n",
            " [0]\n",
            " [0]\n",
            " [0]\n",
            " [1]\n",
            " [1]\n",
            " [1]\n",
            " [1]\n",
            " [1]\n",
            " [1]\n",
            " [1]]\n"
          ]
        }
      ],
      "source": [
        "# Check that RNG works\n",
        "# Context: https://github.com/google/jax/issues/7896\n",
        "import jax\n",
        "import jax.numpy as jnp\n",
        "\n",
        "# sample from a Markov chain\n",
        "init_dist = jnp.array([0.8, 0.2])\n",
        "trans_mat = jnp.array([[0.9, 0.1], [0.5, 0.5]])\n",
        "rng_key = jax.random.PRNGKey(0)\n",
        "from jax.scipy.special import logit\n",
        "seq_len = 15\n",
        "\n",
        "initial_state = jax.random.categorical(rng_key, logits=logit(init_dist), shape=(1,))\n",
        "\n",
        "def draw_state(prev_state, key):\n",
        "        logits = logit(trans_mat[:, prev_state])\n",
        "        state = jax.random.categorical(key, logits=logits.flatten(), shape=(1,))\n",
        "        return state, state\n",
        "\n",
        "        rng_key, rng_state, rng_obs = jax.random.split(rng_key, 3)\n",
        "        keys = jax.random.split(rng_state, seq_len - 1)\n",
        "\n",
        "        final_state, states = jax.lax.scan(draw_state, initial_state, keys)\n",
        "\n",
        "        print(states)\n",
        "            \n",
        "rng_key, rng_state, rng_obs = jax.random.split(rng_key, 3)\n",
        "keys = jax.random.split(rng_state, seq_len - 1)\n",
        "\n",
        "final_state, states = jax.lax.scan(draw_state, initial_state, keys)\n",
        "\n",
        "print(states)"
      ]
    },
    {
      "cell_type": "code",
      "execution_count": 6,
      "metadata": {},
      "outputs": [
        {
          "name": "stdout",
          "output_type": "stream",
          "text": [
            "The autoreload extension is already loaded. To reload it, use:\n",
            "  %reload_ext autoreload\n"
          ]
        }
      ],
      "source": [
        "%load_ext autoreload\n",
        "%autoreload 2"
      ]
    },
    {
      "cell_type": "code",
      "execution_count": 8,
      "metadata": {},
      "outputs": [
        {
          "data": {
            "text/plain": [
              "'/Users/kpmurphy/github/pyprobml'"
            ]
          },
          "execution_count": 8,
          "metadata": {},
          "output_type": "execute_result"
        }
      ],
      "source": [
        "%pwd"
      ]
    },
    {
      "cell_type": "code",
      "execution_count": 20,
      "metadata": {},
      "outputs": [
        {
          "name": "stdout",
          "output_type": "stream",
          "text": [
            "[[2 1]\n",
            " [7 7]\n",
            " [3 5]\n",
            " [7 8]\n",
            " [2 2]]\n"
          ]
        }
      ],
      "source": [
        "key = 0; \n",
        "key = jax.random.PRNGKey(0)\n",
        "\n",
        "anchor_key, sample_key = jax.random.split(key, 2); \n",
        "num_data = 10\n",
        "kappa = 5\n",
        "anchor_idx = jax.random.randint(anchor_key, [kappa, 2], 0, num_data)\n",
        "print(anchor_idx)\n"
      ]
    },
    {
      "cell_type": "code",
      "execution_count": null,
      "metadata": {},
      "outputs": [],
      "source": []
    }
  ],
  "metadata": {
    "colab": {
      "include_colab_link": true,
      "name": "scratchpad",
      "provenance": []
    },
    "interpreter": {
      "hash": "31f2aee4e71d21fbe5cf8b01ff0e069b9275f58929596ceb00d14d90e3e16cd6"
    },
    "kernelspec": {
      "display_name": "Python 3.8.10 64-bit",
      "name": "python3"
    },
    "language_info": {
      "codemirror_mode": {
        "name": "ipython",
        "version": 3
      },
      "file_extension": ".py",
      "mimetype": "text/x-python",
      "name": "python",
      "nbconvert_exporter": "python",
      "pygments_lexer": "ipython3",
      "version": "3.8.5"
    }
  },
  "nbformat": 4,
  "nbformat_minor": 2
}
